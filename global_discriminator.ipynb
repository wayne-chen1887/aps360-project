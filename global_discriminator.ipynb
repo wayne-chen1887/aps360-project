{
  "nbformat": 4,
  "nbformat_minor": 0,
  "metadata": {
    "colab": {
      "name": "global_discriminator.ipynb",
      "provenance": [],
      "collapsed_sections": [],
      "authorship_tag": "ABX9TyNkw7eBG4UEq65uilUcZSri",
      "include_colab_link": true
    },
    "kernelspec": {
      "name": "python3",
      "display_name": "Python 3"
    }
  },
  "cells": [
    {
      "cell_type": "markdown",
      "metadata": {
        "id": "view-in-github",
        "colab_type": "text"
      },
      "source": [
        "<a href=\"https://colab.research.google.com/github/wayne-chen1887/aps360-project/blob/discriminators-test/global_discriminator.ipynb\" target=\"_parent\"><img src=\"https://colab.research.google.com/assets/colab-badge.svg\" alt=\"Open In Colab\"/></a>"
      ]
    },
    {
      "cell_type": "code",
      "metadata": {
        "id": "fX-SxZnthIaj"
      },
      "source": [
        "from google.colab import drive\n",
        "drive.mount('/content/gdrive')"
      ],
      "execution_count": null,
      "outputs": []
    },
    {
      "cell_type": "code",
      "metadata": {
        "id": "-oAfLqo6lhfl"
      },
      "source": [
        "import numpy as np\n",
        "import time\n",
        "import torch\n",
        "import torch.nn as nn\n",
        "import torch.nn.functional as F\n",
        "import torch.optim as optim\n",
        "import torchvision\n",
        "from torch.utils.data.sampler import SubsetRandomSampler\n",
        "import torchvision.transforms as transforms\n",
        "import os \n",
        "import matplotlib.pyplot as plt"
      ],
      "execution_count": null,
      "outputs": []
    },
    {
      "cell_type": "code",
      "metadata": {
        "id": "aktcZ0BXnp0J"
      },
      "source": [
        "\"\"\"\n",
        "Input: 1920 x 1080\n",
        "\n",
        "          kernel | stride | output \n",
        "conv1 --> 5 x 5  | 2 x 2  | 5  x 958 x 538\n",
        "pool  --> 2 x 2  | 2 x 2  | 5  x 479 x 269\n",
        "conv2 --> 5 x 5  | 2 x 2  | 10 x 238 x 133\n",
        "conv3 --> 5 x 5  | 2 x 2  | 15 x 117 x 65\n",
        "pool  --> 2 x 2  | 2 x 2  | 15 x 58  x 32\n",
        "conv4 --> 5 x 5  | 2 x 2  | 20 x 27  x 14\n",
        "conv5 --> 5 x 5  | 2 x 2  | 25 x 12  x 5\n",
        "\n",
        "          input        | output\n",
        "fc    --> 25 x 12 x 5  | 2\n",
        "\n",
        "\"\"\""
      ],
      "execution_count": null,
      "outputs": []
    },
    {
      "cell_type": "code",
      "metadata": {
        "id": "R83m9GcZlaYa"
      },
      "source": [
        "class global(nn.Module):\n",
        "  def __init__(self):\n",
        "    super(CNN_v1, self).__init__()\n",
        "    self.name = \"CNN\"\n",
        "    self.conv1 = nn.Conv2d(in_channels=3,  out_channels=5, kernel_size=5, stride=2, padding=0)\n",
        "    self.pool = nn.MaxPool2d(kernel_size=2, stride=2)\n",
        "    self.conv2 = nn.Conv2d(in_channels=5, out_channels=10, kernel_size=5, stride=2, padding=0)\n",
        "    self.conv3 = nn.Conv2d(in_channels=10, out_channels=15, kernel_size=5, stride=2, padding=0)\n",
        "    self.conv4 = nn.Conv2d(in_channels=10, out_channels=15, kernel_size=5, stride=2, padding=0)\n",
        "    self.conv5 = nn.Conv2d(in_channels=10, out_channels=15, kernel_size=5, stride=2, padding=0)\n",
        "    self.fc1 = nn.Linear( 25*12*5, 2)\n",
        "\n",
        "  def forward(self, x):\n",
        "    x = self.pool(F.relu(self.conv1(x)))\n",
        "    x = F.relu(self.conv2(x)))\n",
        "    x = self.pool(F.relu(self.conv3(x)))\n",
        "    x = F.relu(self.conv4(x))\n",
        "    x = F.relu(self.conv5(x))\n",
        "    x = x.view(-1, 25*12*5)\n",
        "    x = F.relu(self.fc1(x))\n",
        "    return x"
      ],
      "execution_count": null,
      "outputs": []
    }
  ]
}