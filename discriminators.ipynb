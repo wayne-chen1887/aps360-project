{
  "nbformat": 4,
  "nbformat_minor": 0,
  "metadata": {
    "colab": {
      "name": "discriminators.ipynb",
      "provenance": [],
      "collapsed_sections": [],
      "authorship_tag": "ABX9TyMFqk3ZBIKHYHUs1uSfzhjj",
      "include_colab_link": true
    },
    "kernelspec": {
      "name": "python3",
      "display_name": "Python 3"
    }
  },
  "cells": [
    {
      "cell_type": "markdown",
      "metadata": {
        "id": "view-in-github",
        "colab_type": "text"
      },
      "source": [
        "<a href=\"https://colab.research.google.com/github/wayne-chen1887/aps360-project/blob/discriminators-test/discriminators.ipynb\" target=\"_parent\"><img src=\"https://colab.research.google.com/assets/colab-badge.svg\" alt=\"Open In Colab\"/></a>"
      ]
    },
    {
      "cell_type": "code",
      "metadata": {
        "id": "-oAfLqo6lhfl"
      },
      "source": [
        "import numpy as np\n",
        "import time\n",
        "import torch\n",
        "import torch.nn as nn\n",
        "import torch.nn.functional as F\n",
        "import torch.optim as optim\n",
        "import torchvision\n",
        "from torch.utils.data.sampler import SubsetRandomSampler\n",
        "import torchvision.transforms as transforms\n",
        "import os \n",
        "import matplotlib.pyplot as plt"
      ],
      "execution_count": null,
      "outputs": []
    },
    {
      "cell_type": "code",
      "metadata": {
        "id": "rUL9j5FitWm3"
      },
      "source": [
        "\"\"\"\n",
        "Input: 1920 x 1080\n",
        "\n",
        "          kernel | stride | output \n",
        "conv1 --> 5 x 5  | 2 x 2  | 8  x 958 x 538\n",
        "conv2 --> 5 x 5  | 2 x 2  | 16 x 477 x 267\n",
        "conv3 --> 5 x 5  | 2 x 2  | 16 x 237 x 132\n",
        "conv4 --> 5 x 5  | 2 x 2  | 32 x 117  x 64\n",
        "conv5 --> 5 x 5  | 2 x 2  | 32 x 57  x 30\n",
        "conv6 --> 5 x 5  | 2 x 2  | 64 x 27  x 13\n",
        "\n",
        "\n",
        "          input        | output\n",
        "fc    --> 64 x 27 x 13 | 1024\n",
        "\"\"\""
      ],
      "execution_count": null,
      "outputs": []
    },
    {
      "cell_type": "code",
      "metadata": {
        "id": "R83m9GcZlaYa"
      },
      "source": [
        "class Global(nn.Module):\n",
        "  def __init__(self):\n",
        "    super(Global, self).__init__()\n",
        "    self.name = \"Global\"\n",
        "    self.conv1 = nn.Conv2d(in_channels=3,  out_channels=8, kernel_size=5, stride=2, padding=0)\n",
        "    self.conv2 = nn.Conv2d(in_channels=8, out_channels=16, kernel_size=5, stride=2, padding=0)\n",
        "    self.conv3 = nn.Conv2d(in_channels=16, out_channels=16, kernel_size=5, stride=2, padding=0)\n",
        "    self.conv4 = nn.Conv2d(in_channels=16, out_channels=32, kernel_size=5, stride=2, padding=0)\n",
        "    self.conv5 = nn.Conv2d(in_channels=32, out_channels=32, kernel_size=5, stride=2, padding=0)\n",
        "    self.conv6 = nn.Conv2d(in_channels=32, out_channels=64, kernel_size=5, stride=2, padding=0)\n",
        "    self.fc1 = nn.Linear( 64*27*13, 1024)\n",
        "\n",
        "  def forward(self, x):\n",
        "    x = F.LeakyReLU(self.conv1(x))\n",
        "    x = F.LeakyReLU(self.conv2(x))\n",
        "    x = F.LeakyReLU(self.conv3(x))\n",
        "    x = F.LeakyReLU(self.conv4(x))\n",
        "    x = F.LeakyReLU(self.conv5(x))\n",
        "    x = F.LeakyReLU(self.conv6(x))\n",
        "    x = x.view(-1, 64*27*13)\n",
        "    x = self.fc1(x)\n",
        "    return x"
      ],
      "execution_count": null,
      "outputs": []
    },
    {
      "cell_type": "code",
      "metadata": {
        "id": "wvhzeLwzs9qX"
      },
      "source": [
        "\"\"\"\n",
        "Input: 160 x 90\n",
        "\n",
        "          kernel | stride | output \n",
        "conv1 --> 5 x 5  | 2 x 2  | 8  x 78 x 43\n",
        "conv2 --> 5 x 5  | 2 x 2  | 16 x 37 x 20\n",
        "conv3 --> 5 x 5  | 1 x 1  | 32 x 33 x 16\n",
        "conv4 --> 5 x 5  | 1 x 1  | 64 x 29  x 12\n",
        "conv5 --> 5 x 5  | 2 x 2  | 64 x 13  x 4\n",
        "\n",
        "          input        | output\n",
        "fc    --> 64 x 13 x 4  | 1024\n",
        "\"\"\""
      ],
      "execution_count": null,
      "outputs": []
    },
    {
      "cell_type": "code",
      "metadata": {
        "id": "kqzhsDwXs-Dx"
      },
      "source": [
        "class Local(nn.Module):\n",
        "  def __init__(self):\n",
        "    super(Local, self).__init__()\n",
        "    self.name = \"Local\"\n",
        "    self.conv1 = nn.Conv2d(in_channels=3,  out_channels=8, kernel_size=5, stride=2, padding=0)\n",
        "    self.conv2 = nn.Conv2d(in_channels=8, out_channels=16, kernel_size=5, stride=2, padding=0)\n",
        "    self.conv3 = nn.Conv2d(in_channels=16, out_channels=32, kernel_size=5, stride=1, padding=0)\n",
        "    self.conv4 = nn.Conv2d(in_channels=32, out_channels=64, kernel_size=5, stride=1, padding=0)\n",
        "    self.conv5 = nn.Conv2d(in_channels=64, out_channels=64, kernel_size=5, stride=2, padding=0)\n",
        "    self.fc1 = nn.Linear( 64*13*4, 1024)\n",
        "\n",
        "  def forward(self, x):\n",
        "    x = F.LeakyReLU(self.conv1(x))\n",
        "    x = F.LeakyReLU(self.conv2(x))\n",
        "    x = F.LeakyReLU(self.conv3(x))\n",
        "    x = F.LeakyReLU(self.conv4(x))\n",
        "    x = F.LeakyReLU(self.conv5(x))\n",
        "    x = x.view(-1, 64*13*4)\n",
        "    x = self.fc1(x)\n",
        "    return x"
      ],
      "execution_count": null,
      "outputs": []
    },
    {
      "cell_type": "code",
      "metadata": {
        "id": "XAfubFbxy9Sh"
      },
      "source": [
        "class Discriminator(nn.Module):\n",
        "  def __init__(self):\n",
        "    super(Discriminator, self).__init__()\n",
        "    self.name = \"Discriminator\"\n",
        "    self.global_n = Global()\n",
        "    self.local_n = Local()\n",
        "    self.fc1 = nn.Linear(2048, 1)\n",
        "  def forward(self, x):\n",
        "    ld , gd, = x\n",
        "    ld = self.local_n(ld)\n",
        "    gd = self.global_n(gd)\n",
        "    x = torch.cat((ld, gd))\n",
        "    x = nn.Sigmoid(self.fc1(x))\n",
        "    return x"
      ],
      "execution_count": null,
      "outputs": []
    }
  ]
}