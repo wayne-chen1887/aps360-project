{
  "nbformat": 4,
  "nbformat_minor": 0,
  "metadata": {
    "colab": {
      "name": "discriminators.ipynb",
      "provenance": [],
      "collapsed_sections": [],
      "authorship_tag": "ABX9TyNrEZ1z3LPVwy0Llbp9oFH5",
      "include_colab_link": true
    },
    "kernelspec": {
      "name": "python3",
      "display_name": "Python 3"
    }
  },
  "cells": [
    {
      "cell_type": "markdown",
      "metadata": {
        "id": "view-in-github",
        "colab_type": "text"
      },
      "source": [
        "<a href=\"https://colab.research.google.com/github/wayne-chen1887/aps360-project/blob/discriminators-test/discriminators.ipynb\" target=\"_parent\"><img src=\"https://colab.research.google.com/assets/colab-badge.svg\" alt=\"Open In Colab\"/></a>"
      ]
    },
    {
      "cell_type": "code",
      "metadata": {
        "id": "-oAfLqo6lhfl"
      },
      "source": [
        "import numpy as np\n",
        "import time\n",
        "import torch\n",
        "import torch.nn as nn\n",
        "import torch.nn.functional as F\n",
        "import torch.optim as optim\n",
        "import torchvision\n",
        "from torch.utils.data.sampler import SubsetRandomSampler\n",
        "import torchvision.transforms as transforms\n",
        "import os \n",
        "import matplotlib.pyplot as plt"
      ],
      "execution_count": 2,
      "outputs": []
    },
    {
      "cell_type": "markdown",
      "metadata": {
        "id": "gxLPi8ox7_9K"
      },
      "source": [
        "### **Global Discriminator:**\n"
      ]
    },
    {
      "cell_type": "code",
      "metadata": {
        "id": "rUL9j5FitWm3"
      },
      "source": [
        "\"\"\"\n",
        "Input: 512 x 512\n",
        "\n",
        "          kernel | stride | output \n",
        "conv1 --> 5 x 5  | 2 x 2  | 8  x 255 x 255\n",
        "conv2 --> 5 x 5  | 2 x 2  | 16 x 126 x 126\n",
        "conv3 --> 5 x 5  | 2 x 2  | 16 x 62  x 62\n",
        "conv4 --> 5 x 5  | 2 x 2  | 32 x 30  x 30\n",
        "conv5 --> 5 x 5  | 2 x 2  | 32 x 14  x 14\n",
        "conv6 --> 5 x 5  | 2 x 2  | 64 x 6   x 6\n",
        "\n",
        "\n",
        "          input        | output\n",
        "fc    --> 64 x 6 x 6   | 1024\n",
        "\"\"\""
      ],
      "execution_count": null,
      "outputs": []
    },
    {
      "cell_type": "code",
      "metadata": {
        "id": "xGvGsWaAmuka"
      },
      "source": [
        "class Global(nn.Module):\n",
        "  def __init__(self):\n",
        "    super(Global, self).__init__()\n",
        "    self.main = nn.Sequential (\n",
        "        nn.Conv2d(in_channels=3,  out_channels=8, kernel_size=5, stride=2, padding=1),\n",
        "        nn.BatchNorm2d(8),\n",
        "        nn.LeakyReLU(),\n",
        "        nn.Conv2d(in_channels=8, out_channels=16, kernel_size=5, stride=2, padding=0),\n",
        "        nn.BatchNorm2d(16),\n",
        "        nn.LeakyReLU(),\n",
        "        nn.Conv2d(in_channels=16, out_channels=16, kernel_size=5, stride=2, padding=1),\n",
        "        nn.BatchNorm2d(16),\n",
        "        nn.LeakyReLU(),\n",
        "        nn.Conv2d(in_channels=16, out_channels=32, kernel_size=5, stride=2, padding=1),\n",
        "        nn.BatchNorm2d(32),\n",
        "        nn.LeakyReLU(),\n",
        "        nn.Conv2d(in_channels=32, out_channels=32, kernel_size=5, stride=2, padding=1),\n",
        "        nn.BatchNorm2d(32),\n",
        "        nn.LeakyReLU(),\n",
        "        nn.Conv2d(in_channels=32, out_channels=64, kernel_size=5, stride=2, padding=1),\n",
        "        nn.BatchNorm2d(64),\n",
        "        nn.LeakyReLU()\n",
        "    )\n",
        "    self.fc1 = nn.Linear( 64*6*6, 1024)\n",
        "\n",
        "  def forward(self, x):\n",
        "    x = self.main(x)\n",
        "    x = x.view(-1, 64*6*6)\n",
        "    x = self.fc1(x)\n",
        "    return x"
      ],
      "execution_count": 138,
      "outputs": []
    },
    {
      "cell_type": "markdown",
      "metadata": {
        "id": "Jacdfd6S8HG3"
      },
      "source": [
        "### **Local Discriminator:**"
      ]
    },
    {
      "cell_type": "code",
      "metadata": {
        "id": "wvhzeLwzs9qX"
      },
      "source": [
        "\"\"\"\n",
        "Input: 64 x 64\n",
        "\n",
        "          kernel | stride | output \n",
        "conv1 --> 5 x 5  | 2 x 2  | 8  x 31 x 31\n",
        "conv2 --> 5 x 5  | 2 x 2  | 16 x 14 x 14\n",
        "conv3 --> 5 x 5  | 1 x 1  | 32 x 10 x 10\n",
        "conv4 --> 5 x 5  | 1 x 1  | 64 x 6  x 6\n",
        "\n",
        "          input        | output\n",
        "fc    --> 64 x 6 x 6   | 1024\n",
        "\"\"\" "
      ],
      "execution_count": null,
      "outputs": []
    },
    {
      "cell_type": "code",
      "metadata": {
        "id": "kqzhsDwXs-Dx"
      },
      "source": [
        "class Local(nn.Module):\n",
        "  def __init__(self):\n",
        "    super(Local, self).__init__()\n",
        "    self.main = nn.Sequential(\n",
        "        nn.Conv2d(in_channels=3,  out_channels=8, kernel_size=5, stride=2, padding=1),\n",
        "        nn.BatchNorm2d(8),\n",
        "        nn.LeakyReLU(),\n",
        "        nn.Conv2d(in_channels=8, out_channels=16, kernel_size=5, stride=2, padding=0),\n",
        "        nn.BatchNorm2d(16),\n",
        "        nn.LeakyReLU(),\n",
        "        nn.Conv2d(in_channels=16, out_channels=32, kernel_size=5, stride=1, padding=0),\n",
        "        nn.BatchNorm2d(32),\n",
        "        nn.LeakyReLU(),\n",
        "        nn.Conv2d(in_channels=32, out_channels=64, kernel_size=5, stride=1, padding=0),\n",
        "        nn.BatchNorm2d(64),\n",
        "        nn.LeakyReLU()\n",
        "    )\n",
        "    self.fc1 = nn.Linear( 64*6*6, 1024)\n",
        "\n",
        "  def forward(self, x):\n",
        "    x = self.main(x)\n",
        "    x = x.view(-1, 64*6*6)\n",
        "    x = self.fc1(x)\n",
        "    return x"
      ],
      "execution_count": 142,
      "outputs": []
    },
    {
      "cell_type": "markdown",
      "metadata": {
        "id": "Dcji_zna8OOQ"
      },
      "source": [
        "### **Discriminator:**"
      ]
    },
    {
      "cell_type": "code",
      "metadata": {
        "id": "XAfubFbxy9Sh"
      },
      "source": [
        "class Discriminator(nn.Module):\n",
        "  def __init__(self):\n",
        "    super(Discriminator, self).__init__()\n",
        "    self.name = \"Discriminator\"\n",
        "    self.glo = Global()\n",
        "    self.lo = Local()\n",
        "    self.fc1 = nn.Sequential (\n",
        "        nn.Linear(2048, 1),\n",
        "        nn.Sigmoid(),\n",
        "    )\n",
        "  def forward(self, x, y):\n",
        "    x = self.lo(x)\n",
        "    print(\"local:\", x.shape)\n",
        "    y = self.glo(y)\n",
        "    print(\"global:\", y.shape)\n",
        "    x = torch.cat((x, y), dim=1)\n",
        "    print(\"concat:\", x.shape)\n",
        "    x = self.fc1(x)\n",
        "    print(\"Result:\", x)\n",
        "    return x"
      ],
      "execution_count": 159,
      "outputs": []
    },
    {
      "cell_type": "markdown",
      "metadata": {
        "id": "rKHB_cNE8f0W"
      },
      "source": [
        "### **Sample Data Loading:**"
      ]
    },
    {
      "cell_type": "code",
      "metadata": {
        "id": "ieXMTpkpdxzf",
        "outputId": "c861c3a1-da7d-4ef3-94eb-bc77f3a70733",
        "colab": {
          "base_uri": "https://localhost:8080/"
        }
      },
      "source": [
        "from google.colab import drive\n",
        "drive.mount('/content/gdrive')"
      ],
      "execution_count": 30,
      "outputs": [
        {
          "output_type": "stream",
          "text": [
            "Drive already mounted at /content/gdrive; to attempt to forcibly remount, call drive.mount(\"/content/gdrive\", force_remount=True).\n"
          ],
          "name": "stdout"
        }
      ]
    },
    {
      "cell_type": "code",
      "metadata": {
        "id": "m9LjPADze5hd"
      },
      "source": [
        "path = '/content/gdrive/My Drive/APS360_Labs/Discriminators/test'\n",
        "transform = transforms.Compose([transforms.Resize((512,512)), \n",
        "                                transforms.ToTensor()])\n",
        "transform2 = transforms.Compose([transforms.Resize((64,64)), \n",
        "                                transforms.ToTensor()])\n",
        "\n",
        "globalset = torchvision.datasets.ImageFolder(path, transform=transform)\n",
        "localset = torchvision.datasets.ImageFolder(path, transform=transform2)\n",
        "\n",
        "global_loader = torch.utils.data.DataLoader(globalset, batch_size=1, shuffle=True, num_workers=0)\n",
        "local_loader = torch.utils.data.DataLoader(localset, batch_size=1, shuffle=True, num_workers=0)\n",
        "\n",
        "global_iter = iter(global_loader)\n",
        "local_iter = iter(local_loader)\n",
        "\n",
        "global_sample, label = global_iter.next()\n",
        "local_sample, label1 = local_iter.next()\n",
        "\n"
      ],
      "execution_count": 144,
      "outputs": []
    },
    {
      "cell_type": "code",
      "metadata": {
        "id": "nURv2OnKiuu1",
        "outputId": "ffb50178-ffdf-410a-bc49-907a9576d337",
        "colab": {
          "base_uri": "https://localhost:8080/"
        }
      },
      "source": [
        "torch.manual_seed(1000)\n",
        "model = Discriminator()\n",
        "output = model(local_sample, global_sample)"
      ],
      "execution_count": 161,
      "outputs": [
        {
          "output_type": "stream",
          "text": [
            "local: torch.Size([1, 1024])\n",
            "global: torch.Size([1, 1024])\n",
            "concat: torch.Size([1, 2048])\n",
            "Result: tensor([[0.5313]], grad_fn=<SigmoidBackward>)\n"
          ],
          "name": "stdout"
        }
      ]
    }
  ]
}