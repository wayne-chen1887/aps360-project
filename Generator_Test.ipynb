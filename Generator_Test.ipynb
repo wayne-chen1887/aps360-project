{
  "nbformat": 4,
  "nbformat_minor": 0,
  "metadata": {
    "colab": {
      "name": "Generator_Test.ipynb",
      "provenance": [],
      "collapsed_sections": [],
      "machine_shape": "hm",
      "authorship_tag": "ABX9TyMCuI6vZ7fPiFXqn8ShNIJm",
      "include_colab_link": true
    },
    "kernelspec": {
      "name": "python3",
      "display_name": "Python 3"
    },
    "accelerator": "GPU"
  },
  "cells": [
    {
      "cell_type": "markdown",
      "metadata": {
        "id": "view-in-github",
        "colab_type": "text"
      },
      "source": [
        "<a href=\"https://colab.research.google.com/github/wayne-chen1887/aps360-project/blob/Generator/Generator_Test.ipynb\" target=\"_parent\"><img src=\"https://colab.research.google.com/assets/colab-badge.svg\" alt=\"Open In Colab\"/></a>"
      ]
    },
    {
      "cell_type": "code",
      "metadata": {
        "id": "kxUQyt1hxSpa"
      },
      "source": [
        "import random\n",
        "import torch\n",
        "import torch.nn as nn\n",
        "import torch.optim as optim\n",
        "import torch.utils.data\n",
        "import torchvision.datasets as dset\n",
        "import torchvision.transforms as transforms\n",
        "import numpy as np\n",
        "import matplotlib.pyplot as plt"
      ],
      "execution_count": 17,
      "outputs": []
    },
    {
      "cell_type": "code",
      "metadata": {
        "id": "Btj6l0YOUgy5",
        "outputId": "99f119cf-0649-46ea-ba35-2ddacf0edefe",
        "colab": {
          "base_uri": "https://localhost:8080/"
        }
      },
      "source": [
        "# link to your Google Drive\n",
        "from google.colab import drive\n",
        "drive.mount('/content/drive')\n",
        "\n",
        "path = \"/content/drive/My Drive/Colab_Notebooks/DCGAN/data/\""
      ],
      "execution_count": 5,
      "outputs": [
        {
          "output_type": "stream",
          "text": [
            "Drive already mounted at /content/drive; to attempt to forcibly remount, call drive.mount(\"/content/drive\", force_remount=True).\n"
          ],
          "name": "stdout"
        }
      ]
    },
    {
      "cell_type": "code",
      "metadata": {
        "id": "HgAUGote7OPM"
      },
      "source": [
        "dataset = dset.ImageFolder(path,\n",
        "                           transform=transforms.Compose([\n",
        "                               transforms.Resize(size=(512, 512)),\n",
        "                               transforms.ToTensor()\n",
        "                           ]))\n",
        "# Create the dataloader\n",
        "dataloader = torch.utils.data.DataLoader(dataset, batch_size=1,)\n",
        "\n",
        "dataiter = iter(dataloader)\n",
        "sample = dataiter.next()\n",
        "sample = sample[0]"
      ],
      "execution_count": 18,
      "outputs": []
    },
    {
      "cell_type": "code",
      "metadata": {
        "id": "Ka9ZXPep3FP0",
        "outputId": "09d65a52-3ee8-45ff-b1fe-151fe4e2814c",
        "colab": {
          "base_uri": "https://localhost:8080/"
        }
      },
      "source": [
        "# ======================== Not using symmetrical architecture (no dilation in conv transpose layer) ========================\n",
        "class Generator(nn.Module):\n",
        "    def __init__(self):\n",
        "        super(Generator, self).__init__()\n",
        "        self.encoder = nn.Sequential(\n",
        "            nn.Conv2d(in_channels=3,  out_channels=32, kernel_size=3, stride=1, padding=1),\n",
        "            nn.BatchNorm2d(32),\n",
        "            nn.ReLU(True),\n",
        "            nn.Conv2d(in_channels=32,  out_channels=64, kernel_size=3, stride=2, padding=1),\n",
        "            nn.BatchNorm2d(64),\n",
        "            nn.ReLU(True),\n",
        "            nn.Conv2d(in_channels=64,  out_channels=128, kernel_size=3, stride=2, padding=1),\n",
        "            nn.BatchNorm2d(128),\n",
        "            nn.ReLU(True),\n",
        "            nn.Conv2d(in_channels=128,  out_channels=256, kernel_size=3, stride=2, padding=1),\n",
        "            nn.BatchNorm2d(256),\n",
        "            nn.ReLU(True),\n",
        "        )\n",
        "\n",
        "        self.dilation = nn.Sequential(\n",
        "            nn.Conv2d(in_channels=256,  out_channels=256, kernel_size=2, stride=1, padding=1, dilation=4),\n",
        "            nn.BatchNorm2d(256),\n",
        "            nn.ReLU(True),\n",
        "            nn.Conv2d(in_channels=256,  out_channels=256, kernel_size=2, stride=1, padding=1, dilation=8),\n",
        "            nn.BatchNorm2d(256),\n",
        "            nn.ReLU(True),\n",
        "            nn.Conv2d(in_channels=256,  out_channels=256, kernel_size=2, stride=1, padding=1, dilation=16),\n",
        "            nn.BatchNorm2d(256),\n",
        "            nn.ReLU(True),\n",
        "        )\n",
        "\n",
        "        self.decoder = nn.Sequential(\n",
        "            nn.ConvTranspose2d(in_channels=256,  out_channels=128, kernel_size=3, stride=3, padding=1, output_padding=2),\n",
        "            nn.BatchNorm2d(128),\n",
        "            nn.ReLU(True),\n",
        "            nn.ConvTranspose2d(in_channels=128,  out_channels=64, kernel_size=3, stride=2, padding=0, output_padding=1),\n",
        "            nn.BatchNorm2d(64),\n",
        "            nn.ReLU(True),\n",
        "            nn.ConvTranspose2d(in_channels=64,  out_channels=32, kernel_size=3, stride=2, padding=0, output_padding=1),\n",
        "            nn.BatchNorm2d(32),\n",
        "            nn.ReLU(True),\n",
        "            nn.ConvTranspose2d(in_channels=32,  out_channels=3, kernel_size=3, stride=1, padding=0, output_padding=0),\n",
        "            nn.Tanh()\n",
        "        )\n",
        "\n",
        "    def forward(self, x):\n",
        "        x = self.encoder(x)\n",
        "        print(\"Encoder:\", x.shape)\n",
        "        x = self.dilation(x)\n",
        "        print(\"Dilation:\", x.shape)\n",
        "        x = self.decoder(x)\n",
        "        print(\"Decoder:\", x.shape)\n",
        "        return x\n",
        "\n",
        "model = Generator()\n",
        "output = model(sample)\n",
        "#print(\"Input:\", sample.shape)\n",
        "#print(\"Output:\", output.shape)"
      ],
      "execution_count": 20,
      "outputs": [
        {
          "output_type": "stream",
          "text": [
            "Encoder: torch.Size([1, 256, 64, 64])\n",
            "Dilation: torch.Size([1, 256, 42, 42])\n",
            "Decoder: torch.Size([1, 3, 512, 512])\n"
          ],
          "name": "stdout"
        }
      ]
    },
    {
      "cell_type": "code",
      "metadata": {
        "id": "iLArcZAWkP-b",
        "outputId": "572e3e5d-7385-41bc-8c3d-9a81b244b9c3",
        "colab": {
          "base_uri": "https://localhost:8080/"
        }
      },
      "source": [
        "# ======================== Using symmetrical architecture: (dilation in conv transpose layer) ========================\n",
        "class Generator(nn.Module):\n",
        "    def __init__(self):\n",
        "        super(Generator, self).__init__()\n",
        "        self.encoder = nn.Sequential(\n",
        "            nn.Conv2d(in_channels=3,  out_channels=32, kernel_size=3, stride=1, padding=1),\n",
        "            nn.BatchNorm2d(32),\n",
        "            nn.ReLU(True),\n",
        "            nn.Conv2d(in_channels=32,  out_channels=64, kernel_size=3, stride=2, padding=1),\n",
        "            nn.BatchNorm2d(64),\n",
        "            nn.ReLU(True),\n",
        "            nn.Conv2d(in_channels=64,  out_channels=128, kernel_size=3, stride=2, padding=1),\n",
        "            nn.BatchNorm2d(128),\n",
        "            nn.ReLU(True),\n",
        "            nn.Conv2d(in_channels=128,  out_channels=256, kernel_size=3, stride=2, padding=1),\n",
        "            nn.BatchNorm2d(256),\n",
        "            nn.ReLU(True),\n",
        "        )\n",
        "\n",
        "        self.dilation = nn.Sequential(\n",
        "            nn.Conv2d(in_channels=256,  out_channels=256, kernel_size=2, stride=1, padding=1, dilation=4),\n",
        "            nn.BatchNorm2d(256),\n",
        "            nn.ReLU(True),\n",
        "            nn.Conv2d(in_channels=256,  out_channels=256, kernel_size=2, stride=1, padding=1, dilation=8),\n",
        "            nn.BatchNorm2d(256),\n",
        "            nn.ReLU(True),\n",
        "            nn.Conv2d(in_channels=256,  out_channels=256, kernel_size=2, stride=1, padding=1, dilation=16),\n",
        "            nn.BatchNorm2d(256),\n",
        "            nn.ReLU(True),\n",
        "        )\n",
        "\n",
        "        self.dilationTranspose = nn.Sequential(\n",
        "            nn.ConvTranspose2d(in_channels=256,  out_channels=256, kernel_size=2, stride=1, padding=1, dilation=16),\n",
        "            nn.BatchNorm2d(256),\n",
        "            nn.ReLU(True),\n",
        "            nn.ConvTranspose2d(in_channels=256,  out_channels=256, kernel_size=2, stride=1, padding=1, dilation=8),\n",
        "            nn.BatchNorm2d(256),\n",
        "            nn.ReLU(True),\n",
        "            nn.ConvTranspose2d(in_channels=256,  out_channels=256, kernel_size=2, stride=1, padding=1, dilation=4),\n",
        "            nn.BatchNorm2d(256),\n",
        "            nn.ReLU(True),\n",
        "        )\n",
        "\n",
        "        self.decoder = nn.Sequential(\n",
        "            nn.ConvTranspose2d(in_channels=256,  out_channels=128, kernel_size=3, stride=2, padding=1, output_padding=1),\n",
        "            nn.BatchNorm2d(128),\n",
        "            nn.ReLU(True),\n",
        "            nn.ConvTranspose2d(in_channels=128,  out_channels=64, kernel_size=3, stride=2, padding=1, output_padding=1),\n",
        "            nn.BatchNorm2d(64),\n",
        "            nn.ReLU(True),\n",
        "            nn.ConvTranspose2d(in_channels=64,  out_channels=32, kernel_size=3, stride=2, padding=1, output_padding=1),\n",
        "            nn.BatchNorm2d(32),\n",
        "            nn.ReLU(True),\n",
        "            nn.ConvTranspose2d(in_channels=32,  out_channels=3, kernel_size=3, stride=1, padding=1, output_padding=0),\n",
        "            nn.Tanh()\n",
        "        )\n",
        "\n",
        "    def forward(self, x):\n",
        "        x = self.encoder(x)\n",
        "        print(\"Encoder:\", x.shape)\n",
        "        x = self.dilation(x)\n",
        "        print(\"Dilation:\", x.shape)\n",
        "        x = self.dilationTranspose(x)\n",
        "        print(\"Dilation Transpose:\", x.shape)\n",
        "        x = self.decoder(x)\n",
        "        print(\"Decoder:\", x.shape)\n",
        "        return x\n",
        "\n",
        "model = Generator()\n",
        "output = model(sample)\n",
        "#print(\"Input:\", sample.shape)\n",
        "#print(\"Output:\", output.shape)"
      ],
      "execution_count": 21,
      "outputs": [
        {
          "output_type": "stream",
          "text": [
            "Encoder: torch.Size([1, 256, 64, 64])\n",
            "Dilation: torch.Size([1, 256, 42, 42])\n",
            "Dilation Transpose: torch.Size([1, 256, 64, 64])\n",
            "Decoder: torch.Size([1, 3, 512, 512])\n"
          ],
          "name": "stdout"
        }
      ]
    }
  ]
}